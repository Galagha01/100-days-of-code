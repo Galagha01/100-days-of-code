{
  "nbformat": 4,
  "nbformat_minor": 0,
  "metadata": {
    "colab": {
      "private_outputs": true,
      "provenance": [],
      "authorship_tag": "ABX9TyM05RXqw1MNVdNdbBmV4+We",
      "include_colab_link": true
    },
    "kernelspec": {
      "name": "python3",
      "display_name": "Python 3"
    },
    "language_info": {
      "name": "python"
    }
  },
  "cells": [
    {
      "cell_type": "markdown",
      "metadata": {
        "id": "view-in-github",
        "colab_type": "text"
      },
      "source": [
        "<a href=\"https://colab.research.google.com/github/Galagha01/100-days-of-code/blob/master/Alagha_Gabriel_DSCI2001_Final_Project_Exploratory_Data_Analysis.ipynb\" target=\"_parent\"><img src=\"https://colab.research.google.com/assets/colab-badge.svg\" alt=\"Open In Colab\"/></a>"
      ]
    },
    {
      "cell_type": "code",
      "execution_count": null,
      "metadata": {
        "id": "CLlcf5C7t4ac"
      },
      "outputs": [],
      "source": [
        "# Import necessary libraries\n",
        "import pandas as pd\n",
        "import numpy as np\n",
        "\n",
        "# Load the dataset\n",
        "df = pd.read_excel('pathways_opportunities_master_dnd.xlsx')\n",
        "\n",
        "\n",
        "print(\"Dataset loaded successfully!\")\n",
        "print(\"Dataset shape:\", df.shape)\n",
        "display(df)\n",
        "\n",
        "# 1. Display the first 5 and last 5 rows\n",
        "print(\"\\nFirst 5 rows:\")\n",
        "display(df.head(5))\n",
        "print(\"\\nLast 5 rows:\")\n",
        "display(df.tail(5))\n",
        "\n",
        "# 2. Print the data type of the entire dataset\n",
        "print(f\"\\nData type of the dataset: {type(df)}\")\n",
        "\n",
        "# 3. Show the shape of the dataset (rows and columns)\n",
        "print(f\"\\nShape of the dataset (rows, columns): {df.shape}\")\n",
        "\n",
        "# 4. Calculate and display the total size of the dataset (total number of elements)\n",
        "print(f\"\\nTotal size of the dataset (elements): {df.size}\")\n",
        "\n",
        "# 5. List all column names and their data types\n",
        "print(\"\\nColumn names and their data types:\")\n",
        "display(df.dtypes)\n",
        "\n",
        "# 1. Display detailed information using .info()\n",
        "print(\"\\nDetailed DataFrame information:\")\n",
        "display(df.info())\n",
        "\n",
        "# 3. Count the number of columns using two different methods\n",
        "print(f\"\\nNumber of columns: {df.shape[1]}\")\n",
        "\n",
        "# 4. Count the number of rows using two different methods\n",
        "print(f\"\\nNumber of rows: {df.shape[0]}\")\n",
        "\n",
        "# 5. Identify which columns contain numerical data vs. categorical data\n",
        "numerical_cols = df.select_dtypes(include=np.number).columns.tolist()\n",
        "categorical_cols = df.select_dtypes(include='object').columns.tolist()\n",
        "print(\"\\nNumerical columns:\")\n",
        "display(numerical_cols)\n",
        "print(\"\\nCategorical columns:\")\n",
        "display(categorical_cols)\n",
        "\n",
        "# 1. Check if there are ANY missing values in the entire dataset\n",
        "print(f\"\\nAre there any missing values in the dataset? {df.isnull().any().any()}\")\n",
        "\n",
        "# 2. Count missing values for each column\n",
        "print(\"\\nMissing values per column:\")\n",
        "print(df.isnull().sum())\n",
        "\n",
        "# 1. Use .describe() to show statistics for ALL numerical columns\n",
        "print(\"\\nDescriptive statistics for numerical columns:\")\n",
        "print(df.describe())\n",
        "\n",
        "print(\"\\nDescriptive statistics for categorical columns:\")\n",
        "(df.describe(include=['object', 'category']))\n",
        "\n",
        "# 1. Check for any duplicate rows in the dataset\n",
        "duplicate_rows = df.duplicated().sum()\n",
        "print(f\"\\nNumber of duplicate rows: {duplicate_rows}\")\n",
        "# Let's see the duplicate row(s)\n",
        "if duplicate_rows > 0:\n",
        "    display(\"Duplicate row(s) found:\")\n",
        "    display(df[df.duplicated(keep=False)]) # Show all occurrences\n",
        "\n",
        "\n"
      ]
    },
    {
      "cell_type": "code",
      "metadata": {
        "id": "6bb6b42a"
      },
      "source": [
        "# --- Part 3: Basic Data Analysis ---\n",
        "print(\"\\n\\n--- Part 3: Basic Data Analysis ---\")\n",
        "\n",
        "# How many total opportunities are available across states?\n",
        "total_opportunities = df.shape[0]\n",
        "print(f\"\\nTotal number of opportunities available across states: {total_opportunities}\")\n",
        "\n",
        "# Which categories (STEM, Arts, Sports, Leadership) are most common?\n",
        "# Assuming 'Category (Type of Opportunity)' and 'Field (Area of Focus)' are relevant\n",
        "# Let's look at the distribution of 'Category (Type of Opportunity)'\n",
        "print(\"\\nDistribution of 'Category (Type of Opportunity)':\")\n",
        "print(df['Category (Type of Opportunity)'].value_counts())\n",
        "\n",
        "# Let's also look at the distribution of 'Field (Area of Focus)'\n",
        "print(\"\\nDistribution of 'Field (Area of Focus)':\")\n",
        "print(df['Field (Area of Focus)'].value_counts())\n",
        "\n",
        "# To answer which *categories* are most common among the listed ones (STEM, Arts, Sports, Leadership),\n",
        "# we need to see if these terms appear in the 'Category (Type of Opportunity)' or 'Field (Area of Focus)' columns.\n",
        "# This requires a more specific analysis based on the values present in these columns.\n",
        "\n",
        "# Are opportunities evenly distributed across grade levels?\n",
        "# This requires analyzing the 'Grade Levels' column.\n",
        "print(\"\\nDistribution of 'Grade Levels':\")\n",
        "print(df['Grade Levels'].value_counts())\n",
        "\n",
        "# To determine if it's \"evenly distributed\", we would need to compare the counts\n",
        "# across different grade levels and see if they are relatively similar or if some\n",
        "# grade levels have significantly more or fewer opportunities."
      ],
      "execution_count": null,
      "outputs": []
    }
  ]
}