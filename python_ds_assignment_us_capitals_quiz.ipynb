{
  "nbformat": 4,
  "nbformat_minor": 0,
  "metadata": {
    "colab": {
      "provenance": [],
      "generative_ai_disabled": true,
      "authorship_tag": "ABX9TyPVRcupS5hhcOXw9wWPFRNV",
      "include_colab_link": true
    },
    "kernelspec": {
      "name": "python3",
      "display_name": "Python 3"
    },
    "language_info": {
      "name": "python"
    }
  },
  "cells": [
    {
      "cell_type": "markdown",
      "metadata": {
        "id": "view-in-github",
        "colab_type": "text"
      },
      "source": [
        "<a href=\"https://colab.research.google.com/github/Galagha01/100-days-of-code/blob/master/python_ds_assignment_us_capitals_quiz.ipynb\" target=\"_parent\"><img src=\"https://colab.research.google.com/assets/colab-badge.svg\" alt=\"Open In Colab\"/></a>"
      ]
    },
    {
      "cell_type": "markdown",
      "source": [
        "# Introduction\n",
        "Gabriel Alagha - Data Science 1 - 09/17/2025\n",
        "\n",
        "Thiis program asks the user a random the capitals of 5 random states in USA"
      ],
      "metadata": {
        "id": "UJ0qWDqhVsq1"
      }
    },
    {
      "cell_type": "code",
      "execution_count": 4,
      "metadata": {
        "colab": {
          "base_uri": "https://localhost:8080/"
        },
        "id": "7nIPo3bcVlt6",
        "outputId": "1b1ee5ca-c6bf-4365-e49f-03f7a7e733cb"
      },
      "outputs": [
        {
          "output_type": "stream",
          "name": "stdout",
          "text": [
            "================================\n",
            "Welcome to the U.S. States and Capitals Quiz!\n",
            "You will be asked about 5 randomly selected states.\n",
            "================================\n",
            "\n",
            "What is the capital of Arkansas? Little Rock\n",
            "Correct!\n",
            "\n",
            "What is the capital of Iowa? Des Moines\n",
            "Correct!\n",
            "\n",
            "What is the capital of Mississippi? Jackson\n",
            "Correct!\n",
            "\n",
            "What is the capital of Montana? Lincoln\n",
            "Incorrect, the correct capital is Helena.\n",
            "\n",
            "What is the capital of South Carolina? Columbia\n",
            "Correct!\n",
            "\n",
            "---  Quiz Complete! ---\n",
            "Your final score is: 4 out of 5.\n",
            "Great job! You know your state capitals well!\n"
          ]
        }
      ],
      "source": [
        "import random\n",
        "states_capitals = {\"Alabama\": \"Montgomery\", \"Alaska\": \"Juneau\",\n",
        "                   \"Arizona\": \"Phoenix\", \"Arkansas\": \"Little Rock\",\n",
        "                   \"California\": \"Sacramento\",\"Colorado\": \"Denver\",\n",
        "                   \"Connecticut\": \"Hartford\",\"Delaware\": \"Dover\",\n",
        "                   \"Florida\": \"Tallahassee\",\"Georgia\": \"Atlanta\",\n",
        "                   \"Hawaii\": \"Honolulu\",\"Idaho\": \"Boise\",\n",
        "                   \"Illinois\": \"Springfield\", \"Indiana\": \"Indianapolis\",\n",
        "                   \"Iowa\": \"Des Moines\",\"Kansas\": \"Topeka\",\n",
        "                   \"Kentucky\": \"Frankfort\",\"Louisiana\": \"Baton Rouge\",\n",
        "                   \"Maine\": \"Augusta\",\"Maryland\": \"Annapolis\",\n",
        "                   \"Massachusetts\": \"Boston\",\"Michigan\": \"Lansing\",\n",
        "                   \"Minnesota\": \"Saint Paul\",\"Mississippi\": \"Jackson\",\n",
        "                   \"Missouri\": \"Jefferson City\",\"Montana\": \"Helena\",\n",
        "                   \"Nebraska\": \"Lincoln\",\"Nevada\": \"Carson City\",\n",
        "                   \"New Hampshire\": \"Concord\",\"New Jersey\": \"Trenton\",\n",
        "                   \"New Mexico\": \"Santa Fe\",\"New York\": \"Albany\",\n",
        "                   \"North Carolina\": \"Raleigh\",\"North Dakota\": \"Bismarck\",\n",
        "                   \"Ohio\": \"Columbus\",\"Oklahoma\": \"Oklahoma City\",\n",
        "                   \"Oregon\": \"Salem\",\"Pennsylvania\": \"Harrisburg\",\n",
        "                   \"Rhode Island\": \"Providence\",\"South Carolina\": \"Columbia\",\n",
        "                  \"South Dakota\": \"Pierre\",\"Tennessee\": \"Nashville\",\n",
        "                  \"Texas\": \"Austin\",\"Utah\": \"Salt Lake City\",\n",
        "                  \"Vermont\": \"Montpelier\",\"Virginia\": \"Richmond\",\n",
        "                  \"Washington\": \"Olympia\",\"West Virginia\": \"Charleston\",\n",
        "                  \"Wisconsin\": \"Madison\",\"Wyoming\": \"Cheyenne\"\n",
        "                   }  # Representing the states\n",
        "#Data Validation\n",
        "#Display the states in Alphabetical order.\n",
        "# print(states_capitals)\n",
        "# Use the len() function to count the key-value pairs\n",
        "# number_of_states = len(states_capitals)\n",
        "\n",
        "# Print the result\n",
        "# print(f\"There are {number_of_states} states in the dictionary.\")\n",
        "\n",
        "# Get a list of the state names (the keys of the dictionary)\n",
        "states_list = list(states_capitals.keys())\n",
        "\n",
        "# Get a list of the state capital names (the keys of the dictionary)\n",
        "capitals_list = list(states_capitals.values())\n",
        "\n",
        "# Choose 5 random states from the states list\n",
        "random_states = random.sample(states_list, 5)\n",
        "\n",
        "# Print the result\n",
        "# print(random_states)\n",
        "\n",
        "\n",
        "# 2. Initialize the score.\n",
        "score = 0\n",
        "print(\"================================\\n\"+ \"Welcome to the U.S. States and Capitals Quiz!\\n\"+\"You will be asked about 5 randomly selected states.\\n\" +\n",
        "      \"================================\")\n",
        "\n",
        "# 3. Loop through each of the 5 randomly chosen states.\n",
        "for state in random_states:\n",
        "    # Get the user's guess and clean it up.\n",
        "    user_guess = input(f\"\\nWhat is the capital of {state}? \").strip().title()\n",
        "\n",
        "    # Get the correct answer from the dictionary.\n",
        "    correct_capital = states_capitals[state]\n",
        "\n",
        "    # Compare the guess to the correct answer.\n",
        "    if user_guess == correct_capital:\n",
        "        print(f\"Correct!\")\n",
        "        score += 1 # Add 1 to the score\n",
        "    else:\n",
        "        print(f\"Incorrect, the correct capital is {correct_capital}.\")\n",
        "\n",
        "# 4. Print the final score after the loop finishes.\n",
        "print(\"\\n---  Quiz Complete! ---\")\n",
        "print(f\"Your final score is: {score} out of 5.\")\n",
        "\n",
        "if score == 5:\n",
        "  print(\"Perfect! Excellent knowledge of U.S. geography!\")\n",
        "elif score == 4:\n",
        "  print(\"Great job! You know your state capitals well!\")\n",
        "elif score == 3:\n",
        "  print(\"Good work! You got more than half correct!\")\n",
        "elif score == 1 or 2:\n",
        "  print(\"Keep studying! You'll improve with practice!\")\n",
        "elif score >= 0:\n",
        "  print(\"Don't give up! Review the state capitals and try again!\")"
      ]
    },
    {
      "cell_type": "markdown",
      "source": [
        "# Conclusion\n",
        "This assignment reinforcesed the use of for loops and if conditions also helped me learn how to use the guided learning tool of google gemini. It was a nice way to learn a little bit about how the backend of how a quiz works when you are writing the code for it."
      ],
      "metadata": {
        "id": "ZKUqlzcdAzk8"
      }
    }
  ]
}