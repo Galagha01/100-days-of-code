{
  "nbformat": 4,
  "nbformat_minor": 0,
  "metadata": {
    "colab": {
      "private_outputs": true,
      "provenance": [],
      "authorship_tag": "ABX9TyM3aijIsvdvFw6F+TGoYxAi",
      "include_colab_link": true
    },
    "kernelspec": {
      "name": "python3",
      "display_name": "Python 3"
    },
    "language_info": {
      "name": "python"
    }
  },
  "cells": [
    {
      "cell_type": "markdown",
      "metadata": {
        "id": "view-in-github",
        "colab_type": "text"
      },
      "source": [
        "<a href=\"https://colab.research.google.com/github/Galagha01/100-days-of-code/blob/master/python_lab_1.ipynb\" target=\"_parent\"><img src=\"https://colab.research.google.com/assets/colab-badge.svg\" alt=\"Open In Colab\"/></a>"
      ]
    },
    {
      "cell_type": "code",
      "execution_count": null,
      "metadata": {
        "id": "o58QMJyDEXpT"
      },
      "outputs": [],
      "source": [
        "#@title 4.10 For While Loop\n",
        "tuition_amount = 8000\n",
        "annual_increase = .03\n",
        "\n",
        "year = 1\n",
        "while year < 6:\n",
        "  print(str(year) +\" year\", tuition_amount)\n",
        "  tuition_amount *= 1.03\n",
        "  year += 1"
      ]
    },
    {
      "cell_type": "code",
      "source": [
        "#@title 4.10 For Loop\n",
        "\n",
        "tuition_amount = 8000\n",
        "annual_increase = .03\n",
        "\n",
        "year = 1\n",
        "for year in range(1,6):\n",
        "  print(str(year) +\" year\", tuition_amount)\n",
        "  tuition_amount *= 1.03\n",
        "  year += 1"
      ],
      "metadata": {
        "id": "D0HlFGxjTWkC"
      },
      "execution_count": null,
      "outputs": []
    }
  ]
}