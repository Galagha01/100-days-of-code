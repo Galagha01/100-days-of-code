{
  "nbformat": 4,
  "nbformat_minor": 0,
  "metadata": {
    "colab": {
      "provenance": [],
      "cell_execution_strategy": "setup",
      "authorship_tag": "ABX9TyM52mifYcuhOlIIfULx2aJP",
      "include_colab_link": true
    },
    "kernelspec": {
      "name": "python3",
      "display_name": "Python 3"
    },
    "language_info": {
      "name": "python"
    }
  },
  "cells": [
    {
      "cell_type": "markdown",
      "metadata": {
        "id": "view-in-github",
        "colab_type": "text"
      },
      "source": [
        "<a href=\"https://colab.research.google.com/github/Galagha01/100-days-of-code/blob/master/summarizing_aggregation_lab5.ipynb\" target=\"_parent\"><img src=\"https://colab.research.google.com/assets/colab-badge.svg\" alt=\"Open In Colab\"/></a>"
      ]
    },
    {
      "cell_type": "code",
      "source": [],
      "metadata": {
        "id": "kIym4fEBTTqY"
      },
      "execution_count": 7,
      "outputs": []
    },
    {
      "cell_type": "code",
      "metadata": {
        "colab": {
          "base_uri": "https://localhost:8080/"
        },
        "id": "28858806",
        "outputId": "3a0341fe-a453-409e-87b3-cc83052ac2a7"
      },
      "source": [
        "import pandas as pd\n",
        "import numpy as np\n",
        "\n",
        "# Create sample sales data\n",
        "data = {\n",
        "    'Region': ['North', 'South', 'East', 'West', 'North', 'South', 'East', 'West',\n",
        "               'North', 'South', 'East', 'West', 'North', 'South', 'East', 'West'],\n",
        "    'Product': ['Laptop', 'Laptop', 'Laptop', 'Laptop', 'Phone', 'Phone', 'Phone', 'Phone',\n",
        "                'Tablet', 'Tablet', 'Tablet', 'Tablet', 'Monitor', 'Monitor', 'Monitor', 'Monitor'],\n",
        "    'Sales': [45000, 38000, 52000, 41000, 28000, 35000, 31000, 29000,\n",
        "              15000, 18000, 16000, 14000, 22000, 25000, 21000, 23000],\n",
        "    'Units': [30, 25, 35, 28, 140, 175, 155, 145, 75, 90, 80, 70, 88, 100, 84, 92]\n",
        "}\n",
        "\n",
        "# Create a pandas DataFrame from the data\n",
        "df = pd.DataFrame(data)\n",
        "\n",
        "# Display the DataFrame\n",
        "print(\"Sample Sales Data:\")\n",
        "print(df)"
      ],
      "execution_count": 13,
      "outputs": [
        {
          "output_type": "stream",
          "name": "stdout",
          "text": [
            "Sample Sales Data:\n",
            "   Region  Product  Sales  Units\n",
            "0   North   Laptop  45000     30\n",
            "1   South   Laptop  38000     25\n",
            "2    East   Laptop  52000     35\n",
            "3    West   Laptop  41000     28\n",
            "4   North    Phone  28000    140\n",
            "5   South    Phone  35000    175\n",
            "6    East    Phone  31000    155\n",
            "7    West    Phone  29000    145\n",
            "8   North   Tablet  15000     75\n",
            "9   South   Tablet  18000     90\n",
            "10   East   Tablet  16000     80\n",
            "11   West   Tablet  14000     70\n",
            "12  North  Monitor  22000     88\n",
            "13  South  Monitor  25000    100\n",
            "14   East  Monitor  21000     84\n",
            "15   West  Monitor  23000     92\n"
          ]
        }
      ]
    },
    {
      "cell_type": "markdown",
      "metadata": {
        "id": "65454434"
      },
      "source": [
        "**Task 1: Basic Summary Statistics**\n",
        "\n",
        "Calculate and display the following for the entire dataset:\n",
        "\n",
        "*   Mean sales\n",
        "*   Median sales\n",
        "*   Standard deviation of units sold\n",
        "*   Minimum and maximum sales values"
      ]
    },
    {
      "cell_type": "code",
      "metadata": {
        "colab": {
          "base_uri": "https://localhost:8080/"
        },
        "id": "67239915",
        "outputId": "62030335-118a-4360-b4fa-e3249b928e61"
      },
      "source": [
        "# Calculate basic summary statistics for the entire dataset\n",
        "mean_sales = df['Sales'].mean()\n",
        "median_sales = df['Sales'].median()\n",
        "std_units = df['Units'].std()\n",
        "min_sales = df['Sales'].min()\n",
        "max_sales = df['Sales'].max()\n",
        "\n",
        "# Display the calculated statistics with clear labels\n",
        "print(\"Basic Summary Statistics:\")\n",
        "print(f\"Mean Sales: {mean_sales}\")\n",
        "print(f\"Median Sales: {median_sales}\")\n",
        "print(f\"Standard Deviation of Units Sold: {std_units}\")\n",
        "print(f\"Minimum Sales: {min_sales}\")\n",
        "print(f\"Maximum Sales: {max_sales}\")"
      ],
      "execution_count": 14,
      "outputs": [
        {
          "output_type": "stream",
          "name": "stdout",
          "text": [
            "Basic Summary Statistics:\n",
            "Mean Sales: 28312.5\n",
            "Median Sales: 26500.0\n",
            "Standard Deviation of Units Sold: 46.53958888229819\n",
            "Minimum Sales: 14000\n",
            "Maximum Sales: 52000\n"
          ]
        }
      ]
    },
    {
      "cell_type": "markdown",
      "metadata": {
        "id": "a357b2c9"
      },
      "source": [
        "**Task 2: Group by Region**\n",
        "\n",
        "Group the data by Region and calculate:\n",
        "\n",
        "*   Total sales for each region\n",
        "*   Average units sold per region\n",
        "\n",
        "Display the results sorted by total sales in descending order"
      ]
    },
    {
      "cell_type": "code",
      "metadata": {
        "colab": {
          "base_uri": "https://localhost:8080/"
        },
        "id": "fc3fc36a",
        "outputId": "b3408417-106f-4948-f26b-bd394e2a365c"
      },
      "source": [
        "# Group data by 'Region' and calculate total sales and average units\n",
        "region_summary = df.groupby('Region').agg(\n",
        "    Total_Sales=('Sales', 'sum'),\n",
        "    Average_Units=('Units', 'mean')\n",
        ").sort_values(by='Total_Sales', ascending=False) # Sort by total sales in descending order\n",
        "\n",
        "# Display the regional summary\n",
        "print(\"Summary by Region (Sorted by Total Sales):\")\n",
        "print(region_summary)"
      ],
      "execution_count": 15,
      "outputs": [
        {
          "output_type": "stream",
          "name": "stdout",
          "text": [
            "Summary by Region (Sorted by Total Sales):\n",
            "        Total_Sales  Average_Units\n",
            "Region                            \n",
            "East         120000          88.50\n",
            "South        116000          97.50\n",
            "North        110000          83.25\n",
            "West         107000          83.75\n"
          ]
        }
      ]
    },
    {
      "cell_type": "markdown",
      "metadata": {
        "id": "b744b186"
      },
      "source": [
        "**Task 3: Group by Product**\n",
        "\n",
        "Group the data by Product and find:\n",
        "\n",
        "*   The total units sold for each product\n",
        "*   The average sales value for each product"
      ]
    },
    {
      "cell_type": "code",
      "metadata": {
        "colab": {
          "base_uri": "https://localhost:8080/"
        },
        "id": "298ca917",
        "outputId": "fdbca85a-5440-4ccb-bc90-4c81dd1fbf93"
      },
      "source": [
        "# Group data by 'Product' and calculate total units and average sales\n",
        "product_summary = df.groupby('Product').agg(\n",
        "    Total_Units=('Units', 'sum'),\n",
        "    Average_Sales=('Sales', 'mean')\n",
        ")\n",
        "\n",
        "# Display the product summary\n",
        "print(\"Summary by Product:\")\n",
        "print(product_summary)"
      ],
      "execution_count": 16,
      "outputs": [
        {
          "output_type": "stream",
          "name": "stdout",
          "text": [
            "Summary by Product:\n",
            "         Total_Units  Average_Sales\n",
            "Product                            \n",
            "Laptop           118        44000.0\n",
            "Monitor          364        22750.0\n",
            "Phone            615        30750.0\n",
            "Tablet           315        15750.0\n"
          ]
        }
      ]
    },
    {
      "cell_type": "markdown",
      "metadata": {
        "id": "15ceed44"
      },
      "source": [
        "**Task 4: Multiple Aggregations**\n",
        "\n",
        "Group the data by Product and calculate multiple statistics at once:\n",
        "\n",
        "*   For Sales: sum, mean, and max\n",
        "*   For Units: sum and mean\n",
        "\n",
        "Display this as a nicely formatted table using the agg() function."
      ]
    },
    {
      "cell_type": "code",
      "metadata": {
        "colab": {
          "base_uri": "https://localhost:8080/"
        },
        "id": "65e3a8d9",
        "outputId": "59fed162-9475-4bd2-abef-5affc37ac202"
      },
      "source": [
        "# Group data by 'Product' and calculate multiple statistics for Sales and Units\n",
        "multiple_agg_summary = df.groupby('Product').agg(\n",
        "    Sales_Sum=('Sales', 'sum'),\n",
        "    Sales_Mean=('Sales', 'mean'),\n",
        "    Sales_Max=('Sales', 'max'),\n",
        "    Units_Sum=('Units', 'sum'),\n",
        "    Units_Mean=('Units', 'mean')\n",
        ")\n",
        "\n",
        "# Display the multiple aggregation summary\n",
        "print(\"Multiple Aggregation Summary by Product:\")\n",
        "print(multiple_agg_summary)"
      ],
      "execution_count": 17,
      "outputs": [
        {
          "output_type": "stream",
          "name": "stdout",
          "text": [
            "Multiple Aggregation Summary by Product:\n",
            "         Sales_Sum  Sales_Mean  Sales_Max  Units_Sum  Units_Mean\n",
            "Product                                                         \n",
            "Laptop      176000     44000.0      52000        118       29.50\n",
            "Monitor      91000     22750.0      25000        364       91.00\n",
            "Phone       123000     30750.0      35000        615      153.75\n",
            "Tablet       63000     15750.0      18000        315       78.75\n"
          ]
        }
      ]
    }
  ]
}